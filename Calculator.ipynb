{
 "cells": [
  {
   "cell_type": "code",
   "execution_count": null,
   "id": "677e3443",
   "metadata": {},
   "outputs": [],
   "source": [
    "calculation = True\n",
    "while calculation == True:\n",
    "    num1 = int(input('Input the first number: '))\n",
    "    num2 = int(input('Input the second number: '))\n",
    "    op = input('Input the operation (+,-,/,*,**): ')\n",
    "    if op == '+':\n",
    "        result = num1 + num2\n",
    "        print(f'The result is {result}')\n",
    "    elif op == '-':\n",
    "        result = num1 - num2\n",
    "        print(f'The result is {result}')\n",
    "    elif op == '/':\n",
    "        result = num1 / num2\n",
    "        print(f'The result is {result}')\n",
    "    elif op == '*':\n",
    "        result = num1 * num2\n",
    "        print(f'The result is {result}')\n",
    "    elif op == '**':\n",
    "        result = num1 ** num2\n",
    "        print(f'The result is {result}')\n",
    "    cont = input('Do you wish to make another calculation? (y or n): ')\n",
    "    if cont == 'y':\n",
    "        continue\n",
    "    else:\n",
    "        calculation == False\n",
    "        ptint('Program end')\n",
    "        print('By Milos Kajte')\n"
   ]
  },
  {
   "cell_type": "code",
   "execution_count": null,
   "id": "6b1bab98",
   "metadata": {},
   "outputs": [],
   "source": []
  }
 ],
 "metadata": {
  "kernelspec": {
   "display_name": "Python 3 (ipykernel)",
   "language": "python",
   "name": "python3"
  },
  "language_info": {
   "codemirror_mode": {
    "name": "ipython",
    "version": 3
   },
   "file_extension": ".py",
   "mimetype": "text/x-python",
   "name": "python",
   "nbconvert_exporter": "python",
   "pygments_lexer": "ipython3",
   "version": "3.9.12"
  }
 },
 "nbformat": 4,
 "nbformat_minor": 5
}
